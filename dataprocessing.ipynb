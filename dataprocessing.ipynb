{
 "cells": [
  {
   "cell_type": "code",
   "execution_count": null,
   "id": "85d2d0cb",
   "metadata": {},
   "outputs": [],
   "source": [
    "MSZoning         object\n",
    "Street           object\n",
    "Alley            object\n",
    "LotShape         object\n",
    "LandContour      object\n",
    "Utilities        object\n",
    "LotConfig        object\n",
    "LandSlope        object\n",
    "Neighborhood     object\n",
    "Condition1       object\n",
    "Condition2       object\n",
    "BldgType         object\n",
    "HouseStyle       object\n",
    "RoofStyle        object\n",
    "RoofMatl         object\n",
    "Exterior1st      object\n",
    "Exterior2nd      object\n",
    "MasVnrType       object\n",
    "ExterQual        object\n",
    "ExterCond        object\n",
    "Foundation       object\n",
    "BsmtQual         object\n",
    "BsmtCond         object\n",
    "BsmtExposure     object\n",
    "BsmtFinType1     object\n",
    "BsmtFinType2     object\n",
    "Heating          object\n",
    "HeatingQC        object\n",
    "CentralAir       object\n",
    "Electrical       object\n",
    "KitchenQual      object\n",
    "Functional       object\n",
    "FireplaceQu      object\n",
    "GarageType       object\n",
    "GarageFinish     object\n",
    "GarageQual       object\n",
    "GarageCond       object\n",
    "PavedDrive       object\n",
    "PoolQC           object\n",
    "Fence            object\n",
    "MiscFeature      object\n",
    "SaleType         object\n",
    "SaleCondition    object"
   ]
  },
  {
   "cell_type": "code",
   "execution_count": null,
   "id": "d59356a1",
   "metadata": {},
   "outputs": [],
   "source": [
    "model_features = [  \n",
    "                  'BsmtQual',\n",
    "                  'ExterQual',\n",
    "                  'KitchenQual',\n",
    "                  'GarageFinish',\n",
    "                  'RoofStyle',\n",
    "                  'BsmtExposure',\n",
    "                  'MasVnrType',\n",
    "                  'LotShape'\n",
    "]\n"
   ]
  }
 ],
 "metadata": {
  "kernelspec": {
   "display_name": "Python 3 (ipykernel)",
   "language": "python",
   "name": "python3"
  },
  "language_info": {
   "codemirror_mode": {
    "name": "ipython",
    "version": 3
   },
   "file_extension": ".py",
   "mimetype": "text/x-python",
   "name": "python",
   "nbconvert_exporter": "python",
   "pygments_lexer": "ipython3",
   "version": "3.10.2"
  }
 },
 "nbformat": 4,
 "nbformat_minor": 5
}
